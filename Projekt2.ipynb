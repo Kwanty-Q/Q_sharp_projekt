{
 "cells": [
  {
   "cell_type": "code",
   "execution_count": 27,
   "id": "e63b1102",
   "metadata": {},
   "outputs": [
    {
     "data": {
      "application/json": "[\"SingleQubitGates\"]",
      "text/html": [
       "<ul><li>SingleQubitGates</li></ul>"
      ],
      "text/plain": [
       "SingleQubitGates"
      ]
     },
     "execution_count": 27,
     "metadata": {},
     "output_type": "execute_result"
    }
   ],
   "source": [
    "// https://docs.microsoft.com/en-us/qsharp/api/qsharp/microsoft.quantum.intrinsic.x\n",
    "open Microsoft.Quantum.Intrinsic;\n",
    "open Microsoft.Quantum.Math;\n",
    "\n",
    "operation SingleQubitGates() : Result {\n",
    "    use q1 = Qubit(); // Alokacja qubitu  \n",
    "\n",
    "    I(q1); // operacja identycznościowa - stan qubitu nie zmienia się\n",
    "    \n",
    "    // Bramki Pauliego X, Y i Z:\n",
    "    X(q1);\n",
    "    //     Działanie bramki X(q):\n",
    "    //     Jeśli stan qubitu to |0⟩, zmienia go na |1⟩.\n",
    "    //     Jeśli stan qubitu to |1⟩, zmienia go na |0⟩.\n",
    "    \n",
    "    Y(q1);\n",
    "    \n",
    "    Z(q1);\n",
    "    //     Działanie bramki Z(q):\n",
    "    //     Zmienia znak |+⟩ na |-⟩ i odwrotnie.\n",
    "    //     Jeśli qubit jest w stanie |ψ⟩ = α |0⟩ + β |1⟩, to operacja Z(q) zmienia go na |ψ⟩ = α |0⟩ - β |1⟩.\n",
    "        \n",
    "    \n",
    "    H(q1);          \n",
    "    // operacja Hadamarda:\n",
    "    // Zmienia |0⟩ na |+⟩ i |1⟩ na |-⟩ (i odwrotnie)\n",
    "    // Jeśli stan qubitu to |0⟩, zmienia go na |+⟩ = (|0⟩ + |1⟩) / sqrt(2).\n",
    "    // Jeśli stan qubitu to |1⟩, zmienia go na |-⟩ = (|0⟩ - |1⟩) / sqrt(2).\n",
    "    // Jeśli qubit jest w superpozycji, to na jego stan wpływają oba podstawowe wektory\n",
    "    \n",
    "    \n",
    "    R(PauliX, 45.0, q1); // rotacja wokół podanej osi o podany kąt\n",
    "    // operation R (pauli : Pauli, theta : Double, qubit : Qubit) : Unit is Adj + Ctl\n",
    "\n",
    "    \n",
    "    S(q1); // dodaje do qubitu fazę pi/4\n",
    "    // Zmiana fazy: zmienia stan qubitu z |ψ⟩ = α |0⟩ + β |1⟩ na α |0⟩ + iβ |1⟩ \n",
    "    // (Odwraca fazę elementu |1⟩)\n",
    "    // Można również zastosować funkcję: R1(0.5 * PI(), q1);\n",
    "    \n",
    "    T(q1); // dodaje do qubitu fazę pi/8\n",
    "    \n",
    "    \n",
    "    let alpha = 30.0; // miara konta wykorzystywana w kolejnych funkcjach\n",
    "    \n",
    "    \n",
    "    Rx(90.0, q1); // rotacja wokół osi x o podany kąt\n",
    "\n",
    "    Ry(2.0 * alpha, q1);\n",
    "    // Rotacja Ry:\n",
    "    // Jeśli stan qubitu to |0⟩, zmienia go na cos(alpha)*|0⟩ + sin(alpha)*|1⟩.\n",
    "    // Jeśli stan qubitu to |1⟩, zmienia go na -sin(alpha)*|0⟩ + cos(alpha)*|1⟩.\n",
    "    // Jeśli qubit jest w superpozycji, to na jego stan wpływają oba podstawowe wektory\n",
    "    \n",
    "\n",
    "    R1(alpha, q1);\n",
    "    // Zmiana fazy R1:\n",
    "    // Jeśli qubit jest w stanie |0⟩ to nie zmienia go.\n",
    "    // Jeśli stan qubitu to |1⟩, zmienia się na exp(i*alpha)|1⟩.\n",
    "    // Jeśli qubit jest w superpozycji, to na jego stan wpływają oba podstawowe wektory\n",
    "    \n",
    "    \n",
    "    let result = M(q1);    // funkcja M(q) wykonuje pomiar. Teraz wartość qubitu jest dobrze określona.\n",
    "\n",
    "    Reset(q1);   // Reset jest potrzebny, aby można było bezpiecznie zwolnić qubit\n",
    "\n",
    "    return result;\n",
    "}"
   ]
  },
  {
   "cell_type": "code",
   "execution_count": 28,
   "id": "3fc46ffd",
   "metadata": {},
   "outputs": [
    {
     "data": {
      "application/json": "1",
      "text/plain": [
       "One"
      ]
     },
     "execution_count": 28,
     "metadata": {},
     "output_type": "execute_result"
    }
   ],
   "source": [
    "%simulate SingleQubitGates"
   ]
  },
  {
   "cell_type": "code",
   "execution_count": 51,
   "id": "ddac523c",
   "metadata": {},
   "outputs": [
    {
     "data": {
      "application/json": "[\"SingleQubitGates2\"]",
      "text/html": [
       "<ul><li>SingleQubitGates2</li></ul>"
      ],
      "text/plain": [
       "SingleQubitGates2"
      ]
     },
     "execution_count": 51,
     "metadata": {},
     "output_type": "execute_result"
    }
   ],
   "source": [
    "open Microsoft.Quantum.Intrinsic;\n",
    "\n",
    "operation SingleQubitGates2() : Result {\n",
    "\n",
    "    // podobne operacje można wykonywać na tablicy qubitów:\n",
    "    mutable qs = new Qubit[2];\n",
    "    \n",
    "    Z(qs[0]);\n",
    "\n",
    "    X(qs[0]);\n",
    "\n",
    "\n",
    "    X(qs[1]);\n",
    "    Z(qs[1]);\n",
    "    \n",
    "    let result2 = M(qs[0]);\n",
    "    \n",
    "    for iqubit in 0..2 {\n",
    "        Reset(qs[iqubit]);\n",
    "    }\n",
    "   \n",
    "    return result2;\n",
    "}"
   ]
  },
  {
   "cell_type": "code",
   "execution_count": 52,
   "id": "83c0cd65",
   "metadata": {},
   "outputs": [
    {
     "data": {
      "text/html": [
       "\r\n",
       "                    <details>\r\n",
       "                        <summary>\r\n",
       "                            Unhandled exception of type System.ArgumentNullException: Trying to perform a primitive operation on a null Qubit (Parameter 'q1')\r\n",
       "                        </summary>\r\n",
       "                        <table>\r\n",
       "                            <thead>\r\n",
       "                                <tr>\r\n",
       "                                    <th>Source</th>\r\n",
       "                                    <th>Callable</th>\r\n",
       "                                </tr>\r\n",
       "                            </thead>\r\n",
       "\r\n",
       "                            <tbody>\r\n",
       "                                \r\n",
       "                        <tr>\r\n",
       "                            <td><a href=\"https://github.com/microsoft/qsharp-runtime/blob/a6e25bc9e3accbe5a44bd717993004c6e1a3db36/src/Simulation/TargetDefinitions/Intrinsic/Z.qs#L0\">D:\\a\\1\\s\\submodules\\qsharp-runtime\\src\\Simulation\\TargetDefinitions\\Intrinsic\\Z.qs:0</a></td>\r\n",
       "                            <td>Microsoft.Quantum.Intrinsic.Z</td>\r\n",
       "                        </tr>\r\n",
       "                    \n",
       "\r\n",
       "                        <tr>\r\n",
       "                            <td>(notebook)</td>\r\n",
       "                            <td>SingleQubitGates2</td>\r\n",
       "                        </tr>\r\n",
       "                    \r\n",
       "                            </tbody>\r\n",
       "                        </table>\r\n",
       "                    </details>\r\n",
       "                "
      ],
      "text/plain": [
       "Unhandled exception. System.ArgumentNullException: Trying to perform a primitive operation on a null Qubit (Parameter 'q1')\r\n",
       " ---> Microsoft.Quantum.Intrinsic.Z on https://github.com/microsoft/qsharp-runtime/blob/a6e25bc9e3accbe5a44bd717993004c6e1a3db36/src/Simulation/TargetDefinitions/Intrinsic/Z.qs#L0:line 0\r\n",
       "   at SNIPPET.SingleQubitGates2 on C:\\snippet_.qs:line 0\r\n"
      ]
     },
     "metadata": {},
     "output_type": "display_data"
    },
    {
     "name": "stderr",
     "output_type": "stream",
     "text": [
      "Trying to perform a primitive operation on a null Qubit (Parameter 'q1')\r\n"
     ]
    }
   ],
   "source": [
    "%simulate SingleQubitGates2"
   ]
  },
  {
   "cell_type": "code",
   "execution_count": 49,
   "id": "3dfd0b16",
   "metadata": {},
   "outputs": [
    {
     "data": {
      "application/json": "[\"MultiQubitGates\"]",
      "text/html": [
       "<ul><li>MultiQubitGates</li></ul>"
      ],
      "text/plain": [
       "MultiQubitGates"
      ]
     },
     "execution_count": 49,
     "metadata": {},
     "output_type": "execute_result"
    }
   ],
   "source": [
    "open Microsoft.Quantum.Intrinsic;\n",
    "open Microsoft.Quantum.Math;\n",
    "\n",
    "\n",
    "operation MultiQubitGates() : Result {\n",
    "\n",
    "    use q1 = Qubit(); \n",
    "    use q2 = Qubit(); \n",
    "    use q3 = Qubit(); \n",
    "    \n",
    "    X(q1);\n",
    "    X(q2);\n",
    "    X(q3);\n",
    "\n",
    "    // Kwantowy odpowiednik bramki XOR:\n",
    "    CNOT(q1, q2);\n",
    "    \n",
    "\n",
    "    SWAP(q1, q2); //SWAP gate\n",
    "    // to samo można uzyskać 3 razy stosując bramkę CNOT:\n",
    "    CNOT(q1, q2);\n",
    "    CNOT(q2, q1);\n",
    "    CNOT(q1, q2);\n",
    "        \n",
    "    CCNOT(q1, q2, q3);\n",
    "    // Toffoli gate - controlled-controlled-not\n",
    "    // podobna do CNOT, ale z trzema parametrami\n",
    "    // można ją zastąpić: Controlled X([control1, control2], target);\n",
    "    \n",
    "    \n",
    "    let result = M(q1);\n",
    "        \n",
    "    Reset(q1);\n",
    "    Reset(q2);\n",
    "    Reset(q3);\n",
    "   \n",
    "    return result;\n",
    "}\n",
    "\n",
    "// więcej o kwantowych bramkach logicznych:\n",
    "// https://en.wikipedia.org/wiki/Quantum_logic_gate"
   ]
  },
  {
   "cell_type": "code",
   "execution_count": 50,
   "id": "bf15a524",
   "metadata": {},
   "outputs": [
    {
     "data": {
      "application/json": "1",
      "text/plain": [
       "One"
      ]
     },
     "execution_count": 50,
     "metadata": {},
     "output_type": "execute_result"
    }
   ],
   "source": [
    "%simulate MultiQubitGates"
   ]
  },
  {
   "cell_type": "code",
   "execution_count": null,
   "id": "5826314c",
   "metadata": {},
   "outputs": [],
   "source": []
  }
 ],
 "metadata": {
  "kernelspec": {
   "display_name": "Q#",
   "language": "qsharp",
   "name": "iqsharp"
  },
  "language_info": {
   "file_extension": ".qs",
   "mimetype": "text/x-qsharp",
   "name": "qsharp",
   "version": "0.14"
  }
 },
 "nbformat": 4,
 "nbformat_minor": 5
}
