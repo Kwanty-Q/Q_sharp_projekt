{
 "cells": [
  {
   "cell_type": "code",
   "execution_count": 15,
   "id": "87fbf9fc",
   "metadata": {},
   "outputs": [
    {
     "data": {
      "application/json": "[\"Quantum1\"]",
      "text/html": [
       "<ul><li>Quantum1</li></ul>"
      ],
      "text/plain": [
       "Quantum1"
      ]
     },
     "execution_count": 15,
     "metadata": {},
     "output_type": "execute_result"
    }
   ],
   "source": [
    "// https://docs.microsoft.com/en-us/qsharp/api/qsharp/microsoft.quantum.intrinsic.x\n",
    "open Microsoft.Quantum.Intrinsic;\n",
    "\n",
    "operation Quantum1() : Result {\n",
    "    use q1 = Qubit(); // Alokacja qubitu\n",
    "    use q2 = Qubit(); \n",
    "    use q3 = Qubit(); \n",
    "    \n",
    "    H(q1);            // operacja Hadamarda\n",
    "    let result = M(q1);    // funkcja M(q) wykonuje pomiar. Teraz wartość qubitu jest dobrze określona.  \n",
    "\n",
    "    \n",
    "    CCNOT(q1, q2, q3);\n",
    "    CNOT(q1, q2);\n",
    "\n",
    "    I(q1);\n",
    "    \n",
    "       \n",
    " //   let pauli1 = Pauli;\n",
    " //   R(Pauli, 45.0, q1); // rotacja wokół podanej osi o podany kąt\n",
    "    // operation R (pauli : Pauli, theta : Double, qubit : Qubit) : Unit is Adj + Ctl\n",
    "\n",
    "    \n",
    "    Rx(90.0, q1); // rotacja wokół osi x o podany kąt\n",
    "    S(q1); // dodaje do qubitu fazę pi/4\n",
    "    SWAP(q1, q2); //SWAP gate\n",
    "    T(q1); // dodaje do qubitu fazę pi/8\n",
    "    \n",
    "    // Bramki Pauliegi X, Y i Z:\n",
    "    X(q1);\n",
    "    Y(q1);\n",
    "    Z(q1);    \n",
    "    \n",
    "    Reset(q1);   // Reset jest potrzebny, aby można było bezpiecznie zwolnić qubit\n",
    "    Reset(q2);\n",
    "    Reset(q3);\n",
    "    \n",
    "    return result;\n",
    "}"
   ]
  },
  {
   "cell_type": "code",
   "execution_count": 18,
   "id": "10fb2ff9",
   "metadata": {},
   "outputs": [
    {
     "data": {
      "application/json": "1",
      "text/plain": [
       "One"
      ]
     },
     "execution_count": 18,
     "metadata": {},
     "output_type": "execute_result"
    }
   ],
   "source": [
    "%simulate Quantum1"
   ]
  },
  {
   "cell_type": "code",
   "execution_count": null,
   "id": "26642c58",
   "metadata": {},
   "outputs": [],
   "source": []
  },
  {
   "cell_type": "code",
   "execution_count": null,
   "id": "7593e87b",
   "metadata": {},
   "outputs": [],
   "source": []
  }
 ],
 "metadata": {
  "kernelspec": {
   "display_name": "Q#",
   "language": "qsharp",
   "name": "iqsharp"
  },
  "language_info": {
   "file_extension": ".qs",
   "mimetype": "text/x-qsharp",
   "name": "qsharp",
   "version": "0.14"
  }
 },
 "nbformat": 4,
 "nbformat_minor": 5
}
