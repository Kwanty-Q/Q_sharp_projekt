{
 "cells": [
  {
   "cell_type": "code",
   "execution_count": 1,
   "id": "e1b00ff9",
   "metadata": {},
   "outputs": [
    {
     "data": {
      "application/json": "[\"Hello\"]",
      "text/html": [
       "<ul><li>Hello</li></ul>"
      ],
      "text/plain": [
       "Hello"
      ]
     },
     "execution_count": 1,
     "metadata": {},
     "output_type": "execute_result"
    }
   ],
   "source": [
    "open Microsoft.Quantum.Intrinsic; // dołączenie biblioteki (przestrzeni nazw) - funkcja Message znajduje się w tej przestrzeni\n",
    "\n",
    "@EntryPoint()\n",
    "operation Hello() : Unit {\n",
    "    Message(\"Hello world!\");\n",
    "    /// funkcja Message wyświetla tekst w konsoli\n",
    "}\n",
    "\n",
    "/// https://docs.microsoft.com/pl-pl/qsharp/api/qsharp/microsoft.quantum.intrinsic.message\n",
    "/// function Message (msg : String) : Unit"
   ]
  },
  {
   "cell_type": "code",
   "execution_count": 2,
   "id": "dcf10a3c",
   "metadata": {},
   "outputs": [
    {
     "name": "stdout",
     "output_type": "stream",
     "text": [
      "Hello world!\r\n"
     ]
    },
    {
     "data": {
      "application/json": "{\"@type\":\"tuple\"}",
      "text/plain": [
       "()"
      ]
     },
     "execution_count": 2,
     "metadata": {},
     "output_type": "execute_result"
    }
   ],
   "source": [
    "%simulate Hello  /// %simulate powoduje uruchomienie podanej operacji"
   ]
  },
  {
   "cell_type": "code",
   "execution_count": 9,
   "id": "37723847",
   "metadata": {},
   "outputs": [
    {
     "data": {
      "application/json": "[\"HelloUser\"]",
      "text/html": [
       "<ul><li>HelloUser</li></ul>"
      ],
      "text/plain": [
       "HelloUser"
      ]
     },
     "execution_count": 9,
     "metadata": {},
     "output_type": "execute_result"
    }
   ],
   "source": [
    "open Microsoft.Quantum.Intrinsic;\n",
    "\n",
    "@EntryPoint()\n",
    "operation HelloUser() : Unit {\n",
    "      \n",
    "    let name1 = \"John\"; /// let przypisuje wartość do stałej - nie można potem zmienić raz przypisanej wartości\n",
    "    Message($\"Hello {name1}!\");\n",
    "    mutable name2 = \"Anna\"; /// mutable definiuje zmienną\n",
    "    Message($\"Hello {name2}!\");\n",
    "    set name2 = \"Joe\"; /// set zmienia wartość zmiennej zdefiniowanej przez mutable\n",
    "    Message($\"Hello {name2}!\");\n",
    "}\n",
    "\n",
    "/// https://docs.microsoft.com/pl-pl/qsharp/api/qsharp/microsoft.quantum.intrinsic.message\n"
   ]
  },
  {
   "cell_type": "code",
   "execution_count": 10,
   "id": "532b63e1",
   "metadata": {},
   "outputs": [
    {
     "name": "stdout",
     "output_type": "stream",
     "text": [
      "Hello John!\n",
      "Hello Anna!\n",
      "Hello Joe!\n"
     ]
    },
    {
     "data": {
      "application/json": "{\"@type\":\"tuple\"}",
      "text/plain": [
       "()"
      ]
     },
     "execution_count": 10,
     "metadata": {},
     "output_type": "execute_result"
    }
   ],
   "source": [
    "%simulate HelloUser"
   ]
  },
  {
   "cell_type": "code",
   "execution_count": 1,
   "id": "6900b7ef",
   "metadata": {},
   "outputs": [
    {
     "data": {
      "application/json": "[\"Add\"]",
      "text/html": [
       "<ul><li>Add</li></ul>"
      ],
      "text/plain": [
       "Add"
      ]
     },
     "execution_count": 1,
     "metadata": {},
     "output_type": "execute_result"
    }
   ],
   "source": [
    "function Add(a : Int, b : Int) : Int {\n",
    "        return a + b;\n",
    "    }"
   ]
  },
  {
   "cell_type": "code",
   "execution_count": 2,
   "id": "d57f9e8b",
   "metadata": {},
   "outputs": [
    {
     "data": {
      "application/json": "5",
      "text/plain": [
       "5"
      ]
     },
     "execution_count": 2,
     "metadata": {},
     "output_type": "execute_result"
    }
   ],
   "source": [
    "%simulate Add a = 2 b = 3"
   ]
  },
  {
   "cell_type": "code",
   "execution_count": 10,
   "id": "6bd2b15b",
   "metadata": {},
   "outputs": [
    {
     "data": {
      "application/json": "[\"QuantumRandomNumber1\"]",
      "text/html": [
       "<ul><li>QuantumRandomNumber1</li></ul>"
      ],
      "text/plain": [
       "QuantumRandomNumber1"
      ]
     },
     "execution_count": 10,
     "metadata": {},
     "output_type": "execute_result"
    }
   ],
   "source": [
    "/// W klasycznych komputerach podstawową jednostką przechowującą informacje jest bit,\n",
    "/// który może mieć wartość 0 lub 1.\n",
    "\n",
    "/// Odpowiednikiem bitu w komputerach kwantowych jest qubit (quantum bit). Qubit reprezentuje prawdopodobieństwo uzyskania 0 lub 1.\n",
    "/// Dopiero w wyniku pomiaru qubit uzyska określoną wartość 0 lub 1.\n",
    "\n",
    "open Microsoft.Quantum.Intrinsic;\n",
    "open Microsoft.Quantum.Diagnostics;\n",
    "\n",
    "operation QuantumRandomNumber1() : Result {\n",
    "    use q1 = Qubit(); // Alokacja qubitu\n",
    "    H(q1);            // H(q) (operacja Hadamarda). Prawdopodobieństwo zmierzenia 0 lub 1 jest teraz takie samo i wynosi 50%.\n",
    "    DumpMachine();\n",  // Pokazuje te "tabelki" ze stanem qubitów
    "    let result = M(q1);    // funkcja M(q) wykonuje pomiar. Teraz wartość qubitu jest dobrze określona.\n",
    "    DumpMachine();\n",
    "    Reset(q1);       // Reset jest potrzebny, aby można było bezpiecznie zwolnić qubit\n",
    "    DumpMachine();\n",
    "    return result;\n",
    "}\n",
    "/// https://docs.microsoft.com/en-us/azure/quantum/install-jupyter-qdk?tabs=tabid-conda"
   ]
  },
  {
   "cell_type": "code",
   "execution_count": 11,
   "id": "8bb863a6",
   "metadata": {},
   "outputs": [
    {
     "data": {
      "application/json": "{\"div_id\":\"dump-machine-div-b39fc3e2-5cbb-4d1c-9c15-7a23cfe0ed01\",\"qubit_ids\":[0],\"n_qubits\":1,\"amplitudes\":[{\"Real\":0.7071067811865476,\"Imaginary\":0.0,\"Magnitude\":0.7071067811865476,\"Phase\":0.0},{\"Real\":0.7071067811865476,\"Imaginary\":0.0,\"Magnitude\":0.7071067811865476,\"Phase\":0.0}]}",
      "text/html": [
       "\r\n",
       "                    <table style=\"table-layout: fixed; width: 100%\">\r\n",
       "                        <thead>\r\n",
       "                            \r\n",
       "                        <tr>\r\n",
       "                            <th>Qubit IDs</th>\r\n",
       "                            <td span=\"3\">0</td>\r\n",
       "                        </tr>\r\n",
       "                    \r\n",
       "                            <tr>\r\n",
       "                                <th style=\"width: 20ch)\">Basis state (little endian)</th>\r\n",
       "                                <th style=\"width: 20ch\">Amplitude</th><th style=\"width: calc(100% - 26ch - 20ch)\">Meas. Pr.</th><th style=\"width: 6ch\">Phase</th>\r\n",
       "                            </tr>\r\n",
       "                        </thead>\r\n",
       "                        <tbody>\r\n",
       "                        \r\n",
       "                            <tr>\r\n",
       "                                <td>$\\left|0\\right\\rangle$</td>\r\n",
       "                                <td>$0.7071 + 0.0000 i$</td>\r\n",
       "                                \r\n",
       "                                <td>\r\n",
       "                                    <progress\r\n",
       "                                        max=\"100\"\r\n",
       "                                        value=\"50.000000000000014\"\r\n",
       "                                        style=\"width: 100%;\"\r\n",
       "                                    > \r\n",
       "                                    <td>\r\n",
       "                                    <p id=\"round-b357e44f-3d2b-44ec-aa5c-9c2221ee75b4\"> \r\n",
       "                                    <script>\r\n",
       "                                    var num = 50.000000000000014;\r\n",
       "                                    num = num.toFixed(4);\r\n",
       "                                    var num_string = num + \"%\";\r\n",
       "                                     document.getElementById(\"round-b357e44f-3d2b-44ec-aa5c-9c2221ee75b4\").innerHTML = num_string;\r\n",
       "                                    </script> </p>\r\n",
       "                                    </td>\r\n",
       "                                </td>\r\n",
       "                            \r\n",
       "                                \r\n",
       "                                <td style=\"transform: rotate(0deg);\r\n",
       "                   text-align: center;\">\r\n",
       "                                 ↑\r\n",
       "                                </td>\r\n",
       "                            \r\n",
       "                            </tr>\r\n",
       "                        \n",
       "\r\n",
       "                            <tr>\r\n",
       "                                <td>$\\left|1\\right\\rangle$</td>\r\n",
       "                                <td>$0.7071 + 0.0000 i$</td>\r\n",
       "                                \r\n",
       "                                <td>\r\n",
       "                                    <progress\r\n",
       "                                        max=\"100\"\r\n",
       "                                        value=\"50.000000000000014\"\r\n",
       "                                        style=\"width: 100%;\"\r\n",
       "                                    > \r\n",
       "                                    <td>\r\n",
       "                                    <p id=\"round-f5015e3b-76fd-464f-a1c3-6ba3ce81923e\"> \r\n",
       "                                    <script>\r\n",
       "                                    var num = 50.000000000000014;\r\n",
       "                                    num = num.toFixed(4);\r\n",
       "                                    var num_string = num + \"%\";\r\n",
       "                                     document.getElementById(\"round-f5015e3b-76fd-464f-a1c3-6ba3ce81923e\").innerHTML = num_string;\r\n",
       "                                    </script> </p>\r\n",
       "                                    </td>\r\n",
       "                                </td>\r\n",
       "                            \r\n",
       "                                \r\n",
       "                                <td style=\"transform: rotate(0deg);\r\n",
       "                   text-align: center;\">\r\n",
       "                                 ↑\r\n",
       "                                </td>\r\n",
       "                            \r\n",
       "                            </tr>\r\n",
       "                        \r\n",
       "                        </tbody>\r\n",
       "                    </table>"
      ],
      "text/plain": [
       "|0⟩\t0,7071067811865476 + 0𝑖\n",
       "|1⟩\t0,7071067811865476 + 0𝑖"
      ]
     },
     "metadata": {},
     "output_type": "display_data"
    },
    {
     "data": {
      "application/json": "{\"div_id\":\"dump-machine-div-534b93c6-c50a-47e2-8262-d2168f791e45\",\"qubit_ids\":[0],\"n_qubits\":1,\"amplitudes\":[{\"Real\":0.0,\"Imaginary\":0.0,\"Magnitude\":0.0,\"Phase\":0.0},{\"Real\":1.0,\"Imaginary\":0.0,\"Magnitude\":1.0,\"Phase\":0.0}]}",
      "text/html": [
       "\r\n",
       "                    <table style=\"table-layout: fixed; width: 100%\">\r\n",
       "                        <thead>\r\n",
       "                            \r\n",
       "                        <tr>\r\n",
       "                            <th>Qubit IDs</th>\r\n",
       "                            <td span=\"3\">0</td>\r\n",
       "                        </tr>\r\n",
       "                    \r\n",
       "                            <tr>\r\n",
       "                                <th style=\"width: 20ch)\">Basis state (little endian)</th>\r\n",
       "                                <th style=\"width: 20ch\">Amplitude</th><th style=\"width: calc(100% - 26ch - 20ch)\">Meas. Pr.</th><th style=\"width: 6ch\">Phase</th>\r\n",
       "                            </tr>\r\n",
       "                        </thead>\r\n",
       "                        <tbody>\r\n",
       "                        \r\n",
       "                            <tr>\r\n",
       "                                <td>$\\left|0\\right\\rangle$</td>\r\n",
       "                                <td>$0.0000 + 0.0000 i$</td>\r\n",
       "                                \r\n",
       "                                <td>\r\n",
       "                                    <progress\r\n",
       "                                        max=\"100\"\r\n",
       "                                        value=\"0\"\r\n",
       "                                        style=\"width: 100%;\"\r\n",
       "                                    > \r\n",
       "                                    <td>\r\n",
       "                                    <p id=\"round-ca28369a-ab26-4907-a72c-495bf91d0118\"> \r\n",
       "                                    <script>\r\n",
       "                                    var num = 0;\r\n",
       "                                    num = num.toFixed(4);\r\n",
       "                                    var num_string = num + \"%\";\r\n",
       "                                     document.getElementById(\"round-ca28369a-ab26-4907-a72c-495bf91d0118\").innerHTML = num_string;\r\n",
       "                                    </script> </p>\r\n",
       "                                    </td>\r\n",
       "                                </td>\r\n",
       "                            \r\n",
       "                                \r\n",
       "                                <td style=\"transform: rotate(0deg);\r\n",
       "                   text-align: center;\">\r\n",
       "                                 ↑\r\n",
       "                                </td>\r\n",
       "                            \r\n",
       "                            </tr>\r\n",
       "                        \n",
       "\r\n",
       "                            <tr>\r\n",
       "                                <td>$\\left|1\\right\\rangle$</td>\r\n",
       "                                <td>$1.0000 + 0.0000 i$</td>\r\n",
       "                                \r\n",
       "                                <td>\r\n",
       "                                    <progress\r\n",
       "                                        max=\"100\"\r\n",
       "                                        value=\"100\"\r\n",
       "                                        style=\"width: 100%;\"\r\n",
       "                                    > \r\n",
       "                                    <td>\r\n",
       "                                    <p id=\"round-89878f91-71da-436e-936a-f71f1922119e\"> \r\n",
       "                                    <script>\r\n",
       "                                    var num = 100;\r\n",
       "                                    num = num.toFixed(4);\r\n",
       "                                    var num_string = num + \"%\";\r\n",
       "                                     document.getElementById(\"round-89878f91-71da-436e-936a-f71f1922119e\").innerHTML = num_string;\r\n",
       "                                    </script> </p>\r\n",
       "                                    </td>\r\n",
       "                                </td>\r\n",
       "                            \r\n",
       "                                \r\n",
       "                                <td style=\"transform: rotate(0deg);\r\n",
       "                   text-align: center;\">\r\n",
       "                                 ↑\r\n",
       "                                </td>\r\n",
       "                            \r\n",
       "                            </tr>\r\n",
       "                        \r\n",
       "                        </tbody>\r\n",
       "                    </table>"
      ],
      "text/plain": [
       "|0⟩\t0 + 0𝑖\n",
       "|1⟩\t1 + 0𝑖"
      ]
     },
     "metadata": {},
     "output_type": "display_data"
    },
    {
     "data": {
      "application/json": "{\"div_id\":\"dump-machine-div-cce5f578-3bfb-4674-8253-eae8f6b5c055\",\"qubit_ids\":[0],\"n_qubits\":1,\"amplitudes\":[{\"Real\":1.0,\"Imaginary\":0.0,\"Magnitude\":1.0,\"Phase\":0.0},{\"Real\":0.0,\"Imaginary\":0.0,\"Magnitude\":0.0,\"Phase\":0.0}]}",
      "text/html": [
       "\r\n",
       "                    <table style=\"table-layout: fixed; width: 100%\">\r\n",
       "                        <thead>\r\n",
       "                            \r\n",
       "                        <tr>\r\n",
       "                            <th>Qubit IDs</th>\r\n",
       "                            <td span=\"3\">0</td>\r\n",
       "                        </tr>\r\n",
       "                    \r\n",
       "                            <tr>\r\n",
       "                                <th style=\"width: 20ch)\">Basis state (little endian)</th>\r\n",
       "                                <th style=\"width: 20ch\">Amplitude</th><th style=\"width: calc(100% - 26ch - 20ch)\">Meas. Pr.</th><th style=\"width: 6ch\">Phase</th>\r\n",
       "                            </tr>\r\n",
       "                        </thead>\r\n",
       "                        <tbody>\r\n",
       "                        \r\n",
       "                            <tr>\r\n",
       "                                <td>$\\left|0\\right\\rangle$</td>\r\n",
       "                                <td>$1.0000 + 0.0000 i$</td>\r\n",
       "                                \r\n",
       "                                <td>\r\n",
       "                                    <progress\r\n",
       "                                        max=\"100\"\r\n",
       "                                        value=\"100\"\r\n",
       "                                        style=\"width: 100%;\"\r\n",
       "                                    > \r\n",
       "                                    <td>\r\n",
       "                                    <p id=\"round-b6d24ffe-a1c7-4da3-b68a-75546fdb436c\"> \r\n",
       "                                    <script>\r\n",
       "                                    var num = 100;\r\n",
       "                                    num = num.toFixed(4);\r\n",
       "                                    var num_string = num + \"%\";\r\n",
       "                                     document.getElementById(\"round-b6d24ffe-a1c7-4da3-b68a-75546fdb436c\").innerHTML = num_string;\r\n",
       "                                    </script> </p>\r\n",
       "                                    </td>\r\n",
       "                                </td>\r\n",
       "                            \r\n",
       "                                \r\n",
       "                                <td style=\"transform: rotate(0deg);\r\n",
       "                   text-align: center;\">\r\n",
       "                                 ↑\r\n",
       "                                </td>\r\n",
       "                            \r\n",
       "                            </tr>\r\n",
       "                        \n",
       "\r\n",
       "                            <tr>\r\n",
       "                                <td>$\\left|1\\right\\rangle$</td>\r\n",
       "                                <td>$0.0000 + 0.0000 i$</td>\r\n",
       "                                \r\n",
       "                                <td>\r\n",
       "                                    <progress\r\n",
       "                                        max=\"100\"\r\n",
       "                                        value=\"0\"\r\n",
       "                                        style=\"width: 100%;\"\r\n",
       "                                    > \r\n",
       "                                    <td>\r\n",
       "                                    <p id=\"round-b9fc41c8-e6de-45ff-9aaf-5c67a470e228\"> \r\n",
       "                                    <script>\r\n",
       "                                    var num = 0;\r\n",
       "                                    num = num.toFixed(4);\r\n",
       "                                    var num_string = num + \"%\";\r\n",
       "                                     document.getElementById(\"round-b9fc41c8-e6de-45ff-9aaf-5c67a470e228\").innerHTML = num_string;\r\n",
       "                                    </script> </p>\r\n",
       "                                    </td>\r\n",
       "                                </td>\r\n",
       "                            \r\n",
       "                                \r\n",
       "                                <td style=\"transform: rotate(0deg);\r\n",
       "                   text-align: center;\">\r\n",
       "                                 ↑\r\n",
       "                                </td>\r\n",
       "                            \r\n",
       "                            </tr>\r\n",
       "                        \r\n",
       "                        </tbody>\r\n",
       "                    </table>"
      ],
      "text/plain": [
       "|0⟩\t1 + 0𝑖\n",
       "|1⟩\t0 + 0𝑖"
      ]
     },
     "metadata": {},
     "output_type": "display_data"
    },
    {
     "data": {
      "application/json": "1",
      "text/plain": [
       "One"
      ]
     },
     "execution_count": 11,
     "metadata": {},
     "output_type": "execute_result"
    }
   ],
   "source": [
    "%simulate QuantumRandomNumber1"
   ]
  },
  {
   "cell_type": "code",
   "execution_count": 5,
   "id": "51d754a1",
   "metadata": {},
   "outputs": [
    {
     "data": {
      "application/json": "[\"QuantumRandomNumber2\"]",
      "text/html": [
       "<ul><li>QuantumRandomNumber2</li></ul>"
      ],
      "text/plain": [
       "QuantumRandomNumber2"
      ]
     },
     "execution_count": 5,
     "metadata": {},
     "output_type": "execute_result"
    }
   ],
   "source": [
    "// to samo można zapisać krócej wykorzystując funkcję MResetZ(q), która mierzy, zwraca wynik i resetuje qubit\n",
    "\n",
    "open Microsoft.Quantum.Measurement; // funkcja MResetZ(q) znajduje się w tej przestrzeni nazw\n",
    "\n",
    "operation QuantumRandomNumber2() : Result {\n",
    "    use q2 = Qubit();  \n",
    "    H(q2);             \n",
    "    return MResetZ(q2); // funkcje M(q) i Reset(q) w jednym\n",
    "    // Istnieją również funkcje MResetX(q) i MResetY(q) - różnią się bazą, w której wykonywany jest pomiar\n",
    "}\n",
    "\n",
    "/// https://docs.microsoft.com/pl-pl/azure/quantum/tutorial-qdk-quantum-random-number-generator?tabs=tabid-qsharp"
   ]
  },
  {
   "cell_type": "code",
   "execution_count": 6,
   "id": "a7ac609c",
   "metadata": {},
   "outputs": [
    {
     "data": {
      "application/json": "0",
      "text/plain": [
       "Zero"
      ]
     },
     "execution_count": 6,
     "metadata": {},
     "output_type": "execute_result"
    }
   ],
   "source": [
    "%simulate QuantumRandomNumber2"
   ]
  },
  {
   "cell_type": "code",
   "execution_count": 5,
   "id": "a015b1e7",
   "metadata": {},
   "outputs": [
    {
     "data": {
      "application/json": "[\"QuantumRandomNumber\",\"RandomNumberInRange\",\"RandomNumber\"]",
      "text/html": [
       "<ul><li>QuantumRandomNumber</li><li>RandomNumberInRange</li><li>RandomNumber</li></ul>"
      ],
      "text/plain": [
       "QuantumRandomNumber, RandomNumberInRange, RandomNumber"
      ]
     },
     "execution_count": 5,
     "metadata": {},
     "output_type": "execute_result"
    }
   ],
   "source": [
    "// Losowanie liczby całkowitej z przedziału\n",
    "\n",
    "open Microsoft.Quantum.Convert;\n",
    "open Microsoft.Quantum.Math;\n",
    "open Microsoft.Quantum.Measurement;\n",
    "open Microsoft.Quantum.Canon;\n",
    "open Microsoft.Quantum.Intrinsic;\n",
    "\n",
    "@EntryPoint()\n",
    "operation QuantumRandomNumber() : Result {\n",
    "    use q1 = Qubit();   \n",
    "    H(q1);              \n",
    "    return MResetZ(q1); \n",
    "}\n",
    "operation RandomNumberInRange(max : Int) : Int {\n",
    "    mutable digits = new Result[0]; // tablica \"cyfr\", czyli bitów\n",
    "    // funkcja BitSizeI zwraca liczbę bitów potrzebną, by reprezentować daną liczbę\n",
    "    for i in 1..BitSizeI(max) {\n",
    "        set digits = digits + [QuantumRandomNumber()];\n",
    "    }\n",
    "    mutable sample = ResultArrayAsInt(digits); \n",
    "    // ResultArrayAsInt() zmienia ciąg typu \"Results\" na liczbę całkowitą w formacie \"little endian\".\n",
    "    \n",
    "    if sample > max {\n",
    "        set sample = max;\n",
    "    }\n",
    "    return sample; \n",
    "}\n",
    "@EntryPoint()\n",
    "operation RandomNumber(max : Int) : Int {\n",
    "    Message($\"Losowanie liczby między 0 i {max}: \");\n",
    "    return RandomNumberInRange(max);\n",
    "}\n",
    "\n",
    "/// https://docs.microsoft.com/pl-pl/azure/quantum/tutorial-qdk-quantum-random-number-generator?tabs=tabid-qsharp"
   ]
  },
  {
   "cell_type": "code",
   "execution_count": 7,
   "id": "9bb474e2",
   "metadata": {},
   "outputs": [
    {
     "name": "stdout",
     "output_type": "stream",
     "text": [
      "Losowanie liczby między 0 i 100: \r\n"
     ]
    },
    {
     "data": {
      "application/json": "39",
      "text/plain": [
       "39"
      ]
     },
     "execution_count": 7,
     "metadata": {},
     "output_type": "execute_result"
    }
   ],
   "source": [
    "%simulate RandomNumber max = 100"
   ]
  },
  {
   "cell_type": "code",
   "execution_count": 23,
   "id": "ffef99fe",
   "metadata": {},
   "outputs": [
    {
     "data": {
      "application/json": "[\"Math1\"]",
      "text/html": [
       "<ul><li>Math1</li></ul>"
      ],
      "text/plain": [
       "Math1"
      ]
     },
     "execution_count": 23,
     "metadata": {},
     "output_type": "execute_result"
    }
   ],
   "source": [
    "// zebrane funkcje z Microsoft.Quantum.Math\n",
    "\n",
    "open Microsoft.Quantum.Math;\n",
    "\n",
    "function Math1() : Unit {\n",
    "\n",
    "    // function Truncate (a : Double) : Int\n",
    "    // zwraca część całkowitą liczby\n",
    "    \n",
    "    Message($\"Truncate(5.2): {Truncate(5.2)}\");   //  5\n",
    "    Message($\"Truncate(4.8): {Truncate(4.8)}\");   //  4\n",
    "    Message($\"Truncate(-3.2): {Truncate(-3.2)}\");  // -3\n",
    "    Message($\"Truncate(-2.6): {Truncate(-2.6)}\");  // -2\n",
    "    \n",
    "    \n",
    "    // function Ceiling (value : Double) : Int\n",
    "    // \"sufit\" - najbliższa większa liczba całkowita\n",
    "\n",
    "    Message($\"Ceiling(5.2): {Ceiling(5.2)}\");   //  6\n",
    "    Message($\"Ceiling(4.7): {Ceiling(4.7)}\");   //  5\n",
    "    Message($\"Ceiling(-3.3): {Ceiling(-3.3)}\");  // -3\n",
    "    Message($\"Ceiling(-2.7): {Ceiling(-2.7)}\");  // -2\n",
    "    \n",
    "    // function Floor (value : Double) : Int\n",
    "    // \"podłoga\" - najbliższa mniejsza liczba całkowita\n",
    "\n",
    "    Message($\"Floor(3.3): {Floor(3.3)}\");   //  3\n",
    "    Message($\"Floor(2.7): {Floor(2.7)}\");   //  2\n",
    "    Message($\"Floor(-1.1): {Floor(-1.1)}\");  // -2\n",
    "    Message($\"Floor(-7.9): {Floor(-7.9)}\");  // -8\n",
    "    \n",
    "    // function Round (value : Double) : Int\n",
    "    // zgodnie z zasadami zaokrąglania - najbliższa liczba całkowita\n",
    "    \n",
    "    Message($\"Round(2.1): {Round(2.1)}\");   //  2\n",
    "    Message($\"Round(7.6): {Round(7.6)}\");   //  8\n",
    "    Message($\"Round(-4.1): {Round(-4.1)}\");  // -4\n",
    "    Message($\"Round(-5.8): {Round(-5.8)}\");  // -6\n",
    "    \n",
    "    \n",
    "    // function Sqrt (d : Double) : Double\n",
    "    Message($\"Pierwiastek z 9: {Sqrt(9.0)}\"); \n",
    "    // uwaga: jeśli funkcja wymaga typu double, to wstawiając liczbę całkowitą należy dodać \".0\"\n",
    "    \n",
    "    \n",
    "    //PI - liczba Pi\n",
    "    // function PI () : Double\n",
    "    Message($\"Liczba Pi: {PI()}\");  // -6\n",
    "    \n",
    "    //NaN\n",
    "    \n",
    "    // function ModI (a : Int, b : Int) : Int\n",
    "    Message($\"7 mod 3: {ModI(7, 3)}\"); \n",
    "    // a mod b\n",
    "    // ModI, ModL\n",
    "    \n",
    "    \n",
    "    // E - liczba e\n",
    "    Message($\"e = {E()}\"); \n",
    "    \n",
    "    // function ExpD (a : Double) : Double\n",
    "    // exp(a)\n",
    "    Message($\"exp(5) = {ExpD(5.0)}\"); \n",
    "    \n",
    "    // Lg - podstawa 2\n",
    "    // Log - podstawa e\n",
    "    // Log10 - podstawa 10\n",
    "    // LogFractionalD\n",
    "    // LogGammaD\n",
    "    // LogOf2 -ln2\n",
    "    \n",
    "    Message($\"log_2(4) = {Lg(4.0)}; log_10 (100) = {Log10(100.0)}; ln (5) = {Log(5.0)}; ln (2) = {LogOf2()}\");\n",
    "    \n",
    "}"
   ]
  },
  {
   "cell_type": "code",
   "execution_count": 24,
   "id": "968f10a5",
   "metadata": {},
   "outputs": [
    {
     "name": "stdout",
     "output_type": "stream",
     "text": [
      "Truncate(5.2): 5\n",
      "Truncate(4.8): 4\n",
      "Truncate(-3.2): -3\n",
      "Truncate(-2.6): -2\n",
      "Ceiling(5.2): 6\n",
      "Ceiling(4.7): 5\n",
      "Ceiling(-3.3): -3\n",
      "Ceiling(-2.7): -2\n",
      "Floor(3.3): 3\n",
      "Floor(2.7): 2\n",
      "Floor(-1.1): -2\n",
      "Floor(-7.9): -8\n",
      "Round(2.1): 2\n",
      "Round(7.6): 8\n",
      "Round(-4.1): -4\n",
      "Round(-5.8): -6\n",
      "Pierwiastek z 9: 3\n",
      "Liczba Pi: 3,141592653589793\n",
      "7 mod 3: 1\n",
      "e = 2,718281828459045\n",
      "exp(5) = 148,4131591025766\n",
      "log_2(4) = 2; log_10 (100) = 2; ln (5) = 1,6094379124341003; ln (2) = 0,6931471805599453\n"
     ]
    },
    {
     "data": {
      "application/json": "{\"@type\":\"tuple\"}",
      "text/plain": [
       "()"
      ]
     },
     "execution_count": 24,
     "metadata": {},
     "output_type": "execute_result"
    }
   ],
   "source": [
    "%simulate Math1"
   ]
  },
  {
   "cell_type": "code",
   "execution_count": null,
   "id": "e24a0236",
   "metadata": {},
   "outputs": [],
   "source": []
  }
 ],
 "metadata": {
  "kernelspec": {
   "display_name": "Q#",
   "language": "qsharp",
   "name": "iqsharp"
  },
  "language_info": {
   "file_extension": ".qs",
   "mimetype": "text/x-qsharp",
   "name": "qsharp",
   "version": "0.14"
  }
 },
 "nbformat": 4,
 "nbformat_minor": 5
}
